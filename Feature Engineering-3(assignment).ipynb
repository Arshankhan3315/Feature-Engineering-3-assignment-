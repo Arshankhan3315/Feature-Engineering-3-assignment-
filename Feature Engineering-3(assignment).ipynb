{
 "cells": [
  {
   "cell_type": "markdown",
   "id": "eae349a4-38dc-4131-9c44-7e021d9a2b3f",
   "metadata": {},
   "source": [
    "# Feature Engineering-3 Assignment"
   ]
  },
  {
   "cell_type": "markdown",
   "id": "963f937f-11ac-4af1-90fa-45a7d4cc94c8",
   "metadata": {},
   "source": [
    "# Q1. What is Min-Max scaling, and how is it used in data preprocessing? Provide an example to illustrate its application."
   ]
  },
  {
   "cell_type": "markdown",
   "id": "15d6a60d-e3b7-4422-9907-7aa1ee86cd15",
   "metadata": {},
   "source": [
    "# Answer-1-Min-Max scaling is a data normalization technique used in data preprocessing to rescale numerical features to a specific range, typically between 0 and 1. It works by scaling the data with the minimum and maximum values present in the dataset. The formula for Min-Max scaling is:"
   ]
  },
  {
   "cell_type": "code",
   "execution_count": 1,
   "id": "8358d23f-f6f1-464b-a563-82572dc6479b",
   "metadata": {},
   "outputs": [],
   "source": [
    "from sklearn.preprocessing import MinMaxScaler"
   ]
  },
  {
   "cell_type": "code",
   "execution_count": 2,
   "id": "de0ae40b-796a-4a02-9348-4a9bcbe00e26",
   "metadata": {},
   "outputs": [],
   "source": [
    "data = [[10], [15], [20], [25]]\n",
    "scaler = MinMaxScaler()\n",
    "scaled_data = scaler.fit_transform(data)"
   ]
  },
  {
   "cell_type": "code",
   "execution_count": 3,
   "id": "a685ae5a-7d67-47ae-bb92-182738f32504",
   "metadata": {},
   "outputs": [
    {
     "name": "stdout",
     "output_type": "stream",
     "text": [
      "Original data:\n",
      "[[10], [15], [20], [25]]\n",
      "\n",
      "Scaled data using Min-Max scaling:\n",
      "[[0.        ]\n",
      " [0.33333333]\n",
      " [0.66666667]\n",
      " [1.        ]]\n"
     ]
    }
   ],
   "source": [
    "print(\"Original data:\")\n",
    "print(data)\n",
    "print(\"\\nScaled data using Min-Max scaling:\")\n",
    "print(scaled_data)"
   ]
  },
  {
   "cell_type": "code",
   "execution_count": 4,
   "id": "4315ace6-0e5a-4ec6-8fbc-e6651b0a1333",
   "metadata": {},
   "outputs": [],
   "source": [
    "def min_max_scaling(data):\n",
    "    min_val = min(data)\n",
    "    max_val = max(data)\n",
    "    scaled_data = [(x - min_val) / (max_val - min_val) for x in data]\n",
    "    return scaled_data"
   ]
  },
  {
   "cell_type": "code",
   "execution_count": 5,
   "id": "1257c30a-0083-4126-8b32-d82596e95d94",
   "metadata": {},
   "outputs": [],
   "source": [
    "data = [10, 15, 20, 25]\n",
    "scaled_data = min_max_scaling(data)"
   ]
  },
  {
   "cell_type": "code",
   "execution_count": 6,
   "id": "c26e2b14-81e7-44ca-8534-56c43a489274",
   "metadata": {},
   "outputs": [
    {
     "name": "stdout",
     "output_type": "stream",
     "text": [
      "Original data:\n",
      "[10, 15, 20, 25]\n",
      "\n",
      "Scaled data using custom Min-Max scaling function:\n",
      "[0.0, 0.3333333333333333, 0.6666666666666666, 1.0]\n"
     ]
    }
   ],
   "source": [
    "print(\"Original data:\")\n",
    "print(data)\n",
    "print(\"\\nScaled data using custom Min-Max scaling function:\")\n",
    "print(scaled_data)"
   ]
  },
  {
   "cell_type": "markdown",
   "id": "20b09035-3ef0-4bd7-824d-6ec419929702",
   "metadata": {},
   "source": [
    "# Q2. What is the Unit Vector technique in feature scaling, and how does it differ from Min-Max scaling? Provide an example to illustrate its application."
   ]
  },
  {
   "cell_type": "markdown",
   "id": "d564eacc-8c21-418d-acb8-cb1bb9e2a0d8",
   "metadata": {},
   "source": [
    "# Answer-2-The Unit Vector technique in feature scaling, often referred to as \"Normalization,\" involves scaling each data point such that the entire feature vector has a magnitude of 1. This technique rescales the values along the features to a unit norm (magnitude) while preserving the direction of the vector.It differs from Min-Max scaling in that Min-Max scaling aims to transform the values within a specific range (usually between 0 and 1), whereas Unit Vector normalization focuses on scaling the values so that the entire vector has a length or magnitude of 1."
   ]
  },
  {
   "cell_type": "code",
   "execution_count": 7,
   "id": "42028f50-5be2-4054-8c0a-6b2c9c6c005d",
   "metadata": {},
   "outputs": [],
   "source": [
    "import numpy as np"
   ]
  },
  {
   "cell_type": "code",
   "execution_count": 8,
   "id": "bbb81da2-f981-4727-998c-9e1b86aa0aa7",
   "metadata": {},
   "outputs": [],
   "source": [
    "data = np.array([[3, 4], [5, 12], [8, 15]])\n",
    "norms = np.linalg.norm(data, axis=1)\n",
    "unit_vector_data = data / norms[:, np.newaxis]"
   ]
  },
  {
   "cell_type": "code",
   "execution_count": 9,
   "id": "35393e06-443d-474b-9ff6-2ab7eb4019ec",
   "metadata": {},
   "outputs": [
    {
     "name": "stdout",
     "output_type": "stream",
     "text": [
      "Original data:\n",
      "[[ 3  4]\n",
      " [ 5 12]\n",
      " [ 8 15]]\n",
      "\n",
      "Data after Unit Vector normalization:\n",
      "[[0.6        0.8       ]\n",
      " [0.38461538 0.92307692]\n",
      " [0.47058824 0.88235294]]\n"
     ]
    }
   ],
   "source": [
    "print(\"Original data:\")\n",
    "print(data)\n",
    "print(\"\\nData after Unit Vector normalization:\")\n",
    "print(unit_vector_data)"
   ]
  },
  {
   "cell_type": "markdown",
   "id": "1ec6024e-7109-48cb-aa9a-d7fccf2e55d6",
   "metadata": {},
   "source": [
    "# Q3. What is PCA (Principle Component Analysis), and how is it used in dimensionality reduction? Provide an example to illustrate its application."
   ]
  },
  {
   "cell_type": "markdown",
   "id": "03ac94d5-b0d8-492f-a79e-c5c45920600a",
   "metadata": {},
   "source": [
    "# Answer-3-Principal Component Analysis (PCA) is a dimensionality reduction technique used to identify patterns in data, often employed to reduce the number of features (dimensions) in a dataset while preserving the most critical information. It does this by transforming the original features into a new set of orthogonal (uncorrelated) features called principal components.\n",
    "\n",
    "# The main idea behind PCA is to find the directions (principal components) in which the data varies the most. The first principal component explains the maximum variance in the data, the second principal component explains the maximum variance remaining after the first component, and so on. By keeping only the principal components that capture most of the variance, PCA reduces the dimensionality of the dataset."
   ]
  },
  {
   "cell_type": "code",
   "execution_count": 10,
   "id": "6510b72d-f522-4fe0-a440-fa3b91bf55f6",
   "metadata": {},
   "outputs": [],
   "source": [
    "import numpy as np\n",
    "from sklearn.decomposition import PCA\n",
    "import matplotlib.pyplot as plt"
   ]
  },
  {
   "cell_type": "code",
   "execution_count": 11,
   "id": "2d13fc7e-ee75-41cb-9c6b-3baa29841b02",
   "metadata": {},
   "outputs": [],
   "source": [
    "np.random.seed(42)\n",
    "data = np.random.rand(20, 2)  # 20 data points with 2 features\n",
    "pca = PCA(n_components=1)  # Reduce to 1 dimension\n",
    "transformed_data = pca.fit_transform(data)"
   ]
  },
  {
   "cell_type": "code",
   "execution_count": 12,
   "id": "c5f33a18-98ee-45a0-9846-5cf8b1d2fd6a",
   "metadata": {},
   "outputs": [
    {
     "name": "stdout",
     "output_type": "stream",
     "text": [
      "Original Data:\n",
      "[[0.37454012 0.95071431]\n",
      " [0.73199394 0.59865848]\n",
      " [0.15601864 0.15599452]\n",
      " [0.05808361 0.86617615]\n",
      " [0.60111501 0.70807258]\n",
      " [0.02058449 0.96990985]\n",
      " [0.83244264 0.21233911]\n",
      " [0.18182497 0.18340451]\n",
      " [0.30424224 0.52475643]\n",
      " [0.43194502 0.29122914]\n",
      " [0.61185289 0.13949386]\n",
      " [0.29214465 0.36636184]\n",
      " [0.45606998 0.78517596]\n",
      " [0.19967378 0.51423444]\n",
      " [0.59241457 0.04645041]\n",
      " [0.60754485 0.17052412]\n",
      " [0.06505159 0.94888554]\n",
      " [0.96563203 0.80839735]\n",
      " [0.30461377 0.09767211]\n",
      " [0.68423303 0.44015249]]\n",
      "\n",
      "Transformed Data after PCA:\n",
      "[[ 0.43431613]\n",
      " [-0.04107849]\n",
      " [-0.17655902]\n",
      " [ 0.50151506]\n",
      " [ 0.11558774]\n",
      " [ 0.61101491]\n",
      " [-0.43119876]\n",
      " [-0.16372581]\n",
      " [ 0.08578674]\n",
      " [-0.180234  ]\n",
      " [-0.39677952]\n",
      " [-0.05014632]\n",
      " [ 0.24979881]\n",
      " [ 0.12353438]\n",
      " [-0.47106941]\n",
      " [-0.36713911]\n",
      " [ 0.5722022 ]\n",
      " [ 0.04081446]\n",
      " [-0.29560615]\n",
      " [-0.16103384]]\n"
     ]
    }
   ],
   "source": [
    "print(\"Original Data:\")\n",
    "print(data)\n",
    "print(\"\\nTransformed Data after PCA:\")\n",
    "print(transformed_data)"
   ]
  },
  {
   "cell_type": "code",
   "execution_count": 13,
   "id": "cfe495bd-7eea-4385-98f3-749e9bdad9eb",
   "metadata": {},
   "outputs": [
    {
     "data": {
      "image/png": "[encoded data removed]",
      "text/plain": [
       "<Figure size 800x400 with 2 Axes>"
      ]
     },
     "metadata": {},
     "output_type": "display_data"
    }
   ],
   "source": [
    "plt.figure(figsize=(8, 4))\n",
    "plt.subplot(1, 2, 1)\n",
    "plt.title('Original Data')\n",
    "plt.scatter(data[:, 0], data[:, 1])\n",
    "plt.xlabel('Feature 1')\n",
    "plt.ylabel('Feature 2')\n",
    "\n",
    "plt.subplot(1, 2, 2)\n",
    "plt.title('Transformed Data after PCA')\n",
    "plt.scatter(transformed_data, np.zeros_like(transformed_data))\n",
    "plt.xlabel('Principal Component 1')\n",
    "\n",
    "plt.tight_layout()\n",
    "plt.show()"
   ]
  },
  {
   "cell_type": "markdown",
   "id": "f7365816-d912-4d67-9cbe-fb6ab9d9280d",
   "metadata": {},
   "source": [
    "# Q4. What is the relationship between PCA and Feature Extraction, and how can PCA be used for Feature Extraction? Provide an example to illustrate this concept."
   ]
  },
  {
   "cell_type": "markdown",
   "id": "33cd3178-b961-491b-af2e-e347cb85ea1a",
   "metadata": {},
   "source": [
    "# Answer-4-PCA (Principal Component Analysis) is a technique used in both dimensionality reduction and feature extraction. Feature extraction involves creating new features by combining or transforming the existing features, aiming to capture the most important information or patterns within the data. PCA is a method for feature extraction as it generates new features, called principal components, which are linear combinations of the original features.\n",
    "\n",
    "# The relationship between PCA and feature extraction lies in how PCA derives these new features (principal components). PCA identifies the directions in the data that contain the most variation and represents the data using these directions (components) in a way that minimizes information loss."
   ]
  },
  {
   "cell_type": "code",
   "execution_count": 14,
   "id": "43e88bf8-c788-4e34-9e71-b55420b60333",
   "metadata": {},
   "outputs": [],
   "source": [
    "import numpy as np\n",
    "from sklearn.decomposition import PCA"
   ]
  },
  {
   "cell_type": "code",
   "execution_count": 15,
   "id": "75b20329-111b-4ddc-92bc-6dd993292554",
   "metadata": {},
   "outputs": [],
   "source": [
    "np.random.seed(42)\n",
    "data = np.random.rand(5, 3)  \n",
    "pca = PCA(n_components=2) \n",
    "pca.fit(data)\n",
    "transformed_data = pca.transform(data)"
   ]
  },
  {
   "cell_type": "code",
   "execution_count": 16,
   "id": "d525a73d-7fed-4e27-8be0-5acc1e4bf4ee",
   "metadata": {},
   "outputs": [
    {
     "name": "stdout",
     "output_type": "stream",
     "text": [
      "Principal Components (new features):\n",
      "[[-0.53435576  0.79577968  0.28495372]\n",
      " [ 0.10510519 -0.27194755  0.95655498]]\n",
      "\n",
      "Transformed Data after feature extraction:\n",
      "[[ 0.5382821   0.04170504]\n",
      " [-0.37801268 -0.26959854]\n",
      " [ 0.60281427 -0.09375913]\n",
      " [-0.31232627  0.5572872 ]\n",
      " [-0.45075742 -0.23563458]]\n"
     ]
    }
   ],
   "source": [
    "print(\"Principal Components (new features):\")\n",
    "print(pca.components_)\n",
    "print(\"\\nTransformed Data after feature extraction:\")\n",
    "print(transformed_data)"
   ]
  },
  {
   "cell_type": "markdown",
   "id": "938db42d-a2fc-41f7-96e0-da9bb98b1482",
   "metadata": {},
   "source": [
    "# Q5. You are working on a project to build a recommendation system for a food delivery service. The dataset contains features such as price, rating, and delivery time. Explain how you would use Min-Max scaling to preprocess the data."
   ]
  },
  {
   "cell_type": "markdown",
   "id": "17409000-48c3-40ea-8975-aa775cc106e6",
   "metadata": {},
   "source": [
    "# Answer-5-In the context of building a recommendation system for a food delivery service where the dataset contains features like price, rating, and delivery time, Min-Max scaling can be used as a preprocessing step to bring these features within a common scale (typically between 0 and 1). This is crucial for ensuring that features with different ranges and units contribute equally to the recommendation system."
   ]
  },
  {
   "cell_type": "markdown",
   "id": "4cf49bda-c15f-4618-beff-0cdddc3f4d81",
   "metadata": {},
   "source": [
    "# Understand the Data:First, examine the dataset and understand the ranges and distributions of the features like price, rating, and delivery time.\n",
    "\n",
    "# Apply Min-Max Scaling:Implement Min-Max scaling for each feature separately using the formula:\n",
    "\n",
    "# You can use various libraries in Python, such as scikit-learn, to perform Min-Max scaling."
   ]
  },
  {
   "cell_type": "markdown",
   "id": "65e33c20-3aea-48e2-bae6-030d2ba92f02",
   "metadata": {},
   "source": [
    "# Benefits of Min-Max Scaling:\n",
    "\n",
    "# Equal Contribution: Min-Max scaling ensures that each feature, such as price, rating, and delivery time, contributes equally to the recommendation system. This is essential as features with larger scales might dominate the learning process otherwise.\n",
    "# Improved Model Performance: Scaled features can lead to improved performance in machine learning algorithms, especially distance-based methods or optimization algorithms.\n",
    "# Post-Processing Steps:After scaling, the data can be further preprocessed or used directly for building a recommendation system. For instance, you might proceed to use techniques like collaborative filtering, content-based filtering, or matrix factorization based on the scaled features to develop the recommendation system.\n",
    "\n",
    "# Monitor and Evaluate:Monitor the recommendation system's performance and, if needed, re-evaluate the scaling process and its impact on the system's accuracy or effectiveness."
   ]
  },
  {
   "cell_type": "markdown",
   "id": "2720760a-2763-46cb-8317-89c7175b9ad9",
   "metadata": {},
   "source": [
    "# Q6. You are working on a project to build a model to predict stock prices. The dataset contains many features, such as company financial data and market trends. Explain how you would use PCA to reduce the dimensionality of the dataset."
   ]
  },
  {
   "cell_type": "markdown",
   "id": "c2745fec-b316-477d-b614-be032a1e1946",
   "metadata": {},
   "source": [
    "# Answer-6-n the context of predicting stock prices using a dataset with numerous features (such as company financial data and market trends), Principal Component Analysis (PCA) can be a valuable technique to handle high-dimensional data and reduce its dimensionality while retaining the most critical information.\n",
    "\n",
    "# Here's a step-by-step explanation of how PCA can be utilized in this scenario:\n",
    "\n",
    "# Understand the Dataset:Begin by comprehending the dataset, including the various features (financial data, market trends, etc.) and their relationships.\n",
    "\n",
    "# Data Preprocessing:Clean the dataset by handling missing values, normalizing or standardizing the data (for instance, using techniques like Min-Max scaling or Z-score scaling), and ensuring that all features are on a similar scale.\n",
    "\n",
    "# Apply PCA for Dimensionality Reduction:\n",
    "\n",
    "# Feature Selection:Consider which features are most relevant or impactful for predicting stock prices. PCA might not necessarily consider the interpretability of the components, so understanding the features' significance is crucial.\n",
    "\n",
    "# Implement PCA:Use PCA to reduce the dimensionality of the dataset by identifying the principal components that capture the maximum variance in the data."
   ]
  },
  {
   "cell_type": "markdown",
   "id": "a2fda249-4d85-4e1c-be8c-485f83d184a9",
   "metadata": {},
   "source": [
    "# Interpret the Explained Variance:Check the amount of variance retained by each principal component. The explained_variance_ratio_ attribute in the PCA object provides this information.\n",
    "\n",
    "# Model Training and Evaluation:Use the reduced dataset (reduced_data) in your predictive models, such as regression or time series forecasting models, to predict stock prices.\n",
    "\n",
    "# Monitor and Refine:Continuously monitor the model's performance. If the model's predictive capability is not satisfactory, consider refining the feature selection, adjusting the number of components, or re-evaluating the entire process"
   ]
  },
  {
   "cell_type": "markdown",
   "id": "a72c3c98-8562-4e55-890b-8cf22ba1c071",
   "metadata": {},
   "source": [
    "# Q7. For a dataset containing the following values: [1, 5, 10, 15, 20], perform Min-Max scaling to transform the values to a range of -1 to 1."
   ]
  },
  {
   "cell_type": "markdown",
   "id": "a1f30c59-cde9-4d55-8391-611fc8e41f6b",
   "metadata": {},
   "source": [
    "# Answer-7-"
   ]
  },
  {
   "cell_type": "code",
   "execution_count": 22,
   "id": "7ee4e672-765b-46c0-aad6-9c399981a6e0",
   "metadata": {},
   "outputs": [],
   "source": [
    "data = [1, 5, 10, 15, 20]"
   ]
  },
  {
   "cell_type": "code",
   "execution_count": 23,
   "id": "7458d051-a90e-4d2d-86b1-a8079f24a720",
   "metadata": {},
   "outputs": [],
   "source": [
    "min_val = min(data)\n",
    "max_val = max(data)\n",
    "scaled_data = [(x - min_val) / (max_val - min_val) for x in data]\n",
    "min_range = -1\n",
    "max_range = 1\n",
    "scaled_to_range = [((x * (max_range - min_range)) + min_range) for x in scaled_data]"
   ]
  },
  {
   "cell_type": "code",
   "execution_count": 24,
   "id": "96ea721b-6b5b-424a-8da6-e7b2ac134782",
   "metadata": {},
   "outputs": [
    {
     "name": "stdout",
     "output_type": "stream",
     "text": [
      "Original data:\n",
      "[1, 5, 10, 15, 20]\n",
      "\n",
      "Data after Min-Max scaling to the range of -1 to 1:\n",
      "[-1.0, -0.5789473684210527, -0.052631578947368474, 0.4736842105263157, 1.0]\n"
     ]
    }
   ],
   "source": [
    "print(\"Original data:\")\n",
    "print(data)\n",
    "print(\"\\nData after Min-Max scaling to the range of -1 to 1:\")\n",
    "print(scaled_to_range)"
   ]
  },
  {
   "cell_type": "markdown",
   "id": "a8f6d89c-69e1-477b-aac5-a24a308f19a1",
   "metadata": {},
   "source": [
    "# Q8. For a dataset containing the following features: [height, weight, age, gender, blood pressure], perform Feature Extraction using PCA. How many principal components would you choose to retain, and why?"
   ]
  },
  {
   "cell_type": "markdown",
   "id": "497fb649-0ea2-4e3b-8f5d-4a3f0876528c",
   "metadata": {},
   "source": [
    "# Answer-8-When performing Feature Extraction using PCA on a dataset containing features such as height, weight, age, gender, and blood pressure, the choice of how many principal components to retain is a crucial decision that depends on the nature of the data and the objectives of the analysis.\n",
    "\n",
    "# The number of principal components to retain is determined based on the variance explained by these components. A common approach is to retain enough principal components that collectively explain a significant proportion of the total variance in the data.\n",
    "\n",
    "# Here are the steps you might take:\n",
    "\n",
    "# Standardize the Data:It's essential to standardize the data, especially if the features are measured on different scales, before applying PCA.\n",
    "\n",
    "# Calculate Explained Variance:Apply PCA and analyze the explained variance for each principal component. The explained_variance_ratio_ attribute in PCA gives the proportion of variance explained "
   ]
  },
  {
   "cell_type": "markdown",
   "id": "e8258595-511e-4667-b36d-64566a8e73b5",
   "metadata": {},
   "source": [
    "# Decide the Number of Components:Decide the number of principal components to retain based on the cumulative explained variance. You may select a number of components that explain a substantial percentage of the total variance, such as 90% or 95%.\n",
    "\n",
    "# Interpretability and Use Case:Consider the trade-off between dimensionality reduction and information retained. More principal components retain more information but may also introduce more complexity. Ensure that the selected number of components aligns with interpretability and the objectives of your analysis or model.\n",
    "\n",
    "# For example, if you find that 95% of the variance is explained by the first three principal components, you might choose to retain these three components as they capture a significant amount of information."
   ]
  },
  {
   "cell_type": "markdown",
   "id": "dbd0a896-774c-4165-9e1e-f7d02140a4f9",
   "metadata": {},
   "source": [
    "# Assignment Completed"
   ]
  }
 ],
 "metadata": {
  "kernelspec": {
   "display_name": "Python 3 (ipykernel)",
   "language": "python",
   "name": "python3"
  },
  "language_info": {
   "codemirror_mode": {
    "name": "ipython",
    "version": 3
   },
   "file_extension": ".py",
   "mimetype": "text/x-python",
   "name": "python",
   "nbconvert_exporter": "python",
   "pygments_lexer": "ipython3",
   "version": "3.10.8"
  }
 },
 "nbformat": 4,
 "nbformat_minor": 5
}
